{
 "cells": [
  {
   "cell_type": "code",
   "execution_count": 6,
   "metadata": {},
   "outputs": [
    {
     "name": "stdout",
     "output_type": "stream",
     "text": [
      "ac_no            int64\n",
      "Candidate       object\n",
      "Party           object\n",
      "% of Votes     float64\n",
      "Total Votes      int32\n",
      "Unnamed: 5     float64\n",
      "Unnamed: 6     float64\n",
      "dtype: object\n"
     ]
    }
   ],
   "source": [
    "import pandas as pd\n",
    "df = pd.read_csv(\"UP_2022.csv\")\n",
    "\n",
    "df['% of Votes'] = df['% of Votes'].str.rstrip('%').astype(float)\n",
    "\n",
    "df['Total Votes'] = df['Total Votes'].str.replace(',','').astype(int)\n",
    "\n",
    "print(df.dtypes)\n"
   ]
  },
  {
   "cell_type": "code",
   "execution_count": 21,
   "metadata": {},
   "outputs": [
    {
     "ename": "KeyError",
     "evalue": "\"['Unnamed: 5'] not found in axis\"",
     "output_type": "error",
     "traceback": [
      "\u001b[1;31m---------------------------------------------------------------------------\u001b[0m",
      "\u001b[1;31mKeyError\u001b[0m                                  Traceback (most recent call last)",
      "\u001b[1;32mc:\\Users\\thilks\\Desktop\\Webscrapping\\EDA\\EDA2.ipynb Cell 2\u001b[0m line \u001b[0;36m1\n\u001b[1;32m----> <a href='vscode-notebook-cell:/c%3A/Users/thilks/Desktop/Webscrapping/EDA/EDA2.ipynb#W6sZmlsZQ%3D%3D?line=0'>1</a>\u001b[0m df\u001b[39m.\u001b[39;49mdrop(columns\u001b[39m=\u001b[39;49m[\u001b[39m'\u001b[39;49m\u001b[39mUnnamed: 5\u001b[39;49m\u001b[39m'\u001b[39;49m], inplace\u001b[39m=\u001b[39;49m\u001b[39mTrue\u001b[39;49;00m)\n\u001b[0;32m      <a href='vscode-notebook-cell:/c%3A/Users/thilks/Desktop/Webscrapping/EDA/EDA2.ipynb#W6sZmlsZQ%3D%3D?line=1'>2</a>\u001b[0m df\u001b[39m.\u001b[39mdrop(columns\u001b[39m=\u001b[39m[\u001b[39m'\u001b[39m\u001b[39mUnnamed: 6\u001b[39m\u001b[39m'\u001b[39m], inplace\u001b[39m=\u001b[39m\u001b[39mTrue\u001b[39;00m)\n",
      "File \u001b[1;32m~\\AppData\\Roaming\\Python\\Python312\\site-packages\\pandas\\core\\frame.py:5568\u001b[0m, in \u001b[0;36mDataFrame.drop\u001b[1;34m(self, labels, axis, index, columns, level, inplace, errors)\u001b[0m\n\u001b[0;32m   5420\u001b[0m \u001b[39mdef\u001b[39;00m \u001b[39mdrop\u001b[39m(\n\u001b[0;32m   5421\u001b[0m     \u001b[39mself\u001b[39m,\n\u001b[0;32m   5422\u001b[0m     labels: IndexLabel \u001b[39m|\u001b[39m \u001b[39mNone\u001b[39;00m \u001b[39m=\u001b[39m \u001b[39mNone\u001b[39;00m,\n\u001b[1;32m   (...)\u001b[0m\n\u001b[0;32m   5429\u001b[0m     errors: IgnoreRaise \u001b[39m=\u001b[39m \u001b[39m\"\u001b[39m\u001b[39mraise\u001b[39m\u001b[39m\"\u001b[39m,\n\u001b[0;32m   5430\u001b[0m ) \u001b[39m-\u001b[39m\u001b[39m>\u001b[39m DataFrame \u001b[39m|\u001b[39m \u001b[39mNone\u001b[39;00m:\n\u001b[0;32m   5431\u001b[0m \u001b[39m    \u001b[39m\u001b[39m\"\"\"\u001b[39;00m\n\u001b[0;32m   5432\u001b[0m \u001b[39m    Drop specified labels from rows or columns.\u001b[39;00m\n\u001b[0;32m   5433\u001b[0m \n\u001b[1;32m   (...)\u001b[0m\n\u001b[0;32m   5566\u001b[0m \u001b[39m            weight  1.0     0.8\u001b[39;00m\n\u001b[0;32m   5567\u001b[0m \u001b[39m    \"\"\"\u001b[39;00m\n\u001b[1;32m-> 5568\u001b[0m     \u001b[39mreturn\u001b[39;00m \u001b[39msuper\u001b[39;49m()\u001b[39m.\u001b[39;49mdrop(\n\u001b[0;32m   5569\u001b[0m         labels\u001b[39m=\u001b[39;49mlabels,\n\u001b[0;32m   5570\u001b[0m         axis\u001b[39m=\u001b[39;49maxis,\n\u001b[0;32m   5571\u001b[0m         index\u001b[39m=\u001b[39;49mindex,\n\u001b[0;32m   5572\u001b[0m         columns\u001b[39m=\u001b[39;49mcolumns,\n\u001b[0;32m   5573\u001b[0m         level\u001b[39m=\u001b[39;49mlevel,\n\u001b[0;32m   5574\u001b[0m         inplace\u001b[39m=\u001b[39;49minplace,\n\u001b[0;32m   5575\u001b[0m         errors\u001b[39m=\u001b[39;49merrors,\n\u001b[0;32m   5576\u001b[0m     )\n",
      "File \u001b[1;32m~\\AppData\\Roaming\\Python\\Python312\\site-packages\\pandas\\core\\generic.py:4782\u001b[0m, in \u001b[0;36mNDFrame.drop\u001b[1;34m(self, labels, axis, index, columns, level, inplace, errors)\u001b[0m\n\u001b[0;32m   4780\u001b[0m \u001b[39mfor\u001b[39;00m axis, labels \u001b[39min\u001b[39;00m axes\u001b[39m.\u001b[39mitems():\n\u001b[0;32m   4781\u001b[0m     \u001b[39mif\u001b[39;00m labels \u001b[39mis\u001b[39;00m \u001b[39mnot\u001b[39;00m \u001b[39mNone\u001b[39;00m:\n\u001b[1;32m-> 4782\u001b[0m         obj \u001b[39m=\u001b[39m obj\u001b[39m.\u001b[39;49m_drop_axis(labels, axis, level\u001b[39m=\u001b[39;49mlevel, errors\u001b[39m=\u001b[39;49merrors)\n\u001b[0;32m   4784\u001b[0m \u001b[39mif\u001b[39;00m inplace:\n\u001b[0;32m   4785\u001b[0m     \u001b[39mself\u001b[39m\u001b[39m.\u001b[39m_update_inplace(obj)\n",
      "File \u001b[1;32m~\\AppData\\Roaming\\Python\\Python312\\site-packages\\pandas\\core\\generic.py:4824\u001b[0m, in \u001b[0;36mNDFrame._drop_axis\u001b[1;34m(self, labels, axis, level, errors, only_slice)\u001b[0m\n\u001b[0;32m   4822\u001b[0m         new_axis \u001b[39m=\u001b[39m axis\u001b[39m.\u001b[39mdrop(labels, level\u001b[39m=\u001b[39mlevel, errors\u001b[39m=\u001b[39merrors)\n\u001b[0;32m   4823\u001b[0m     \u001b[39melse\u001b[39;00m:\n\u001b[1;32m-> 4824\u001b[0m         new_axis \u001b[39m=\u001b[39m axis\u001b[39m.\u001b[39;49mdrop(labels, errors\u001b[39m=\u001b[39;49merrors)\n\u001b[0;32m   4825\u001b[0m     indexer \u001b[39m=\u001b[39m axis\u001b[39m.\u001b[39mget_indexer(new_axis)\n\u001b[0;32m   4827\u001b[0m \u001b[39m# Case for non-unique axis\u001b[39;00m\n\u001b[0;32m   4828\u001b[0m \u001b[39melse\u001b[39;00m:\n",
      "File \u001b[1;32m~\\AppData\\Roaming\\Python\\Python312\\site-packages\\pandas\\core\\indexes\\base.py:7069\u001b[0m, in \u001b[0;36mIndex.drop\u001b[1;34m(self, labels, errors)\u001b[0m\n\u001b[0;32m   7067\u001b[0m \u001b[39mif\u001b[39;00m mask\u001b[39m.\u001b[39many():\n\u001b[0;32m   7068\u001b[0m     \u001b[39mif\u001b[39;00m errors \u001b[39m!=\u001b[39m \u001b[39m\"\u001b[39m\u001b[39mignore\u001b[39m\u001b[39m\"\u001b[39m:\n\u001b[1;32m-> 7069\u001b[0m         \u001b[39mraise\u001b[39;00m \u001b[39mKeyError\u001b[39;00m(\u001b[39mf\u001b[39m\u001b[39m\"\u001b[39m\u001b[39m{\u001b[39;00mlabels[mask]\u001b[39m.\u001b[39mtolist()\u001b[39m}\u001b[39;00m\u001b[39m not found in axis\u001b[39m\u001b[39m\"\u001b[39m)\n\u001b[0;32m   7070\u001b[0m     indexer \u001b[39m=\u001b[39m indexer[\u001b[39m~\u001b[39mmask]\n\u001b[0;32m   7071\u001b[0m \u001b[39mreturn\u001b[39;00m \u001b[39mself\u001b[39m\u001b[39m.\u001b[39mdelete(indexer)\n",
      "\u001b[1;31mKeyError\u001b[0m: \"['Unnamed: 5'] not found in axis\""
     ]
    }
   ],
   "source": [
    "\n",
    "df.drop(columns=['Unnamed: 5'], inplace=True)\n",
    "df.drop(columns=['Unnamed: 6'], inplace=True)"
   ]
  },
  {
   "cell_type": "code",
   "execution_count": 10,
   "metadata": {},
   "outputs": [
    {
     "name": "stdout",
     "output_type": "stream",
     "text": [
      "0                Samajwadi Party\n",
      "1         Bharatiya Janata Party\n",
      "2            Bahujan Samaj Party\n",
      "3       Indian National Congress\n",
      "4                Aam Aadmi Party\n",
      "                  ...           \n",
      "4840                 Independent\n",
      "4841           Jan Adhikar Party\n",
      "4842                 Independent\n",
      "4843    All India Peoples' Front\n",
      "4844             Aam Aadmi Party\n",
      "Name: Party, Length: 4845, dtype: object\n"
     ]
    }
   ],
   "source": [
    "df['Party'] = df['Party'].str.replace(r'\\s*\\([^()]*\\)', '', regex=True)\n",
    "print(df['Party'])\n"
   ]
  },
  {
   "cell_type": "code",
   "execution_count": 13,
   "metadata": {},
   "outputs": [
    {
     "name": "stdout",
     "output_type": "stream",
     "text": [
      "376\n"
     ]
    }
   ],
   "source": [
    "bjp_wins = df[df['Party'] == 'Bharatiya Janata Party']\n",
    "\n",
    "num_constituencies_won = bjp_wins['ac_no'].nunique()\n",
    "\n",
    "print(num_constituencies_won)\n"
   ]
  },
  {
   "cell_type": "code",
   "execution_count": 22,
   "metadata": {},
   "outputs": [
    {
     "name": "stdout",
     "output_type": "stream",
     "text": [
      "Party\n",
      "Aam Aadmi Parivartan Party      1\n",
      "Aam Aadmi Party               349\n",
      "Aam Janata Party                1\n",
      "Aam Janta Party                20\n",
      "Aamjan Ekta Party               2\n",
      "                             ... \n",
      "Vikassheel Insaan Party        53\n",
      "Vikassheel Janta Party          1\n",
      "Voters Party International     17\n",
      "Watan Janta Party               1\n",
      "Yuva Vikas Party                2\n",
      "Name: Total Votes, Length: 285, dtype: int64\n"
     ]
    },
    {
     "data": {
      "text/plain": [
       "<Axes: xlabel='Party', ylabel='Total Votes'>"
      ]
     },
     "execution_count": 22,
     "metadata": {},
     "output_type": "execute_result"
    },
    {
     "data": {
      "image/png": "[encoded data removed]",
      "text/plain": [
       "<Figure size 640x480 with 1 Axes>"
      ]
     },
     "metadata": {},
     "output_type": "display_data"
    }
   ],
   "source": [
    "import seaborn as sns\n",
    "data=df.groupby('Party')['Total Votes'].count()\n",
    "print(data)\n",
    "\n",
    "sns.barplot(data, width= 3)"
   ]
  },
  {
   "cell_type": "code",
   "execution_count": 30,
   "metadata": {},
   "outputs": [
    {
     "name": "stdout",
     "output_type": "stream",
     "text": [
      "Number of constituencies: 42\n"
     ]
    }
   ],
   "source": [
    "import pandas as pd\n",
    "\n",
    "df = pd.read_csv(\"UP_2022.csv\")\n",
    "\n",
    "bjp_sp_df = df[df['Party'].isin(['Bharatiya Janata Party', 'Samajwadi Party'])].copy()\n",
    "\n",
    "bjp_sp_df.loc[:, 'Total Votes'] = bjp_sp_df['Total Votes'].str.replace(',', '').astype(int)\n",
    "\n",
    "pivot_df = bjp_sp_df.pivot_table(index='ac_no', columns='Party', values='Total Votes', aggfunc='sum')\n",
    "\n",
    "pivot_df['Vote_Diff'] = abs(pivot_df['Bharatiya Janata Party'] - pivot_df['Samajwadi Party'])\n",
    "\n",
    "constituencies_less_than_5000 = pivot_df[pivot_df['Vote_Diff'] < 5000].shape[0]\n",
    "\n",
    "print(\"Number of constituencies:\", constituencies_less_than_5000)\n"
   ]
  },
  {
   "cell_type": "code",
   "execution_count": 32,
   "metadata": {},
   "outputs": [
    {
     "name": "stdout",
     "output_type": "stream",
     "text": [
      "constituencies where the BJP lost: 104\n"
     ]
    }
   ],
   "source": [
    "lost_constituencies = (pivot_df['Bharatiya Janata Party'] < pivot_df['Samajwadi Party']).sum()\n",
    "\n",
    "print(\"constituencies where the BJP lost:\", lost_constituencies)\n"
   ]
  },
  {
   "cell_type": "code",
   "execution_count": 36,
   "metadata": {},
   "outputs": [
    {
     "name": "stdout",
     "output_type": "stream",
     "text": [
      "District  Party                         \n",
      "Agra      Aam Aadmi Party                  NaN\n",
      "          Aazad Samaj Party (Kanshi Ram)   NaN\n",
      "          Adarsh Samaj Party               NaN\n",
      "          Bahujan Mukti Party              NaN\n",
      "          Bahujan Samaj Party              NaN\n",
      "                                            ..\n",
      "Varanasi  Rashtriya Vikas Manch Party      NaN\n",
      "          Right to Recall Party            NaN\n",
      "          Samajwadi Party                  NaN\n",
      "          Sarvjan Sanatan Party            NaN\n",
      "          Suheldev Bharatiya Samaj Party   NaN\n",
      "Name: Total Votes, Length: 1474, dtype: float64\n"
     ]
    }
   ],
   "source": [
    "import pandas as pd\n",
    "\n",
    "df = pd.read_csv(\"UP_2022.csv\")\n",
    "\n",
    "df2 = pd.read_csv(\"UP_AC_District.csv\")\n",
    "\n",
    "df2.rename(columns={'AC No.': 'ac_no'}, inplace=True)\n",
    "\n",
    "mdf = pd.merge(df, df2, on='ac_no', how='inner')\n",
    "\n",
    "mdf['Total Votes'] = pd.to_numeric(mdf['Total Votes'], errors='coerce')\n",
    "\n",
    "district_party_votes = mdf.groupby(['District', 'Party'])['Total Votes'].sum()\n",
    "\n",
    "district_total_votes = mdf.groupby('District')['Total Votes'].sum()\n",
    "\n",
    "district_vote_percentage = (district_party_votes / district_total_votes * 100).round(2)\n",
    "\n",
    "print(district_vote_percentage)\n",
    "\n"
   ]
  }
 ],
 "metadata": {
  "kernelspec": {
   "display_name": "Python 3",
   "language": "python",
   "name": "python3"
  },
  "language_info": {
   "codemirror_mode": {
    "name": "ipython",
    "version": 3
   },
   "file_extension": ".py",
   "mimetype": "text/x-python",
   "name": "python",
   "nbconvert_exporter": "python",
   "pygments_lexer": "ipython3",
   "version": "3.12.0"
  }
 },
 "nbformat": 4,
 "nbformat_minor": 2
}
