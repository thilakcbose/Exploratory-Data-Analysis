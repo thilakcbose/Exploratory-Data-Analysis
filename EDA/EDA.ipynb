{
 "cells": [
  {
   "cell_type": "code",
   "execution_count": 38,
   "metadata": {},
   "outputs": [
    {
     "name": "stdout",
     "output_type": "stream",
     "text": [
      "Defaulting to user installation because normal site-packages is not writeable\n",
      "Requirement already satisfied: matplotlib in c:\\users\\thilks\\appdata\\roaming\\python\\python312\\site-packages (3.8.3)\n",
      "Requirement already satisfied: contourpy>=1.0.1 in c:\\users\\thilks\\appdata\\roaming\\python\\python312\\site-packages (from matplotlib) (1.2.0)\n",
      "Requirement already satisfied: cycler>=0.10 in c:\\users\\thilks\\appdata\\roaming\\python\\python312\\site-packages (from matplotlib) (0.12.1)\n",
      "Requirement already satisfied: fonttools>=4.22.0 in c:\\users\\thilks\\appdata\\roaming\\python\\python312\\site-packages (from matplotlib) (4.49.0)\n",
      "Requirement already satisfied: kiwisolver>=1.3.1 in c:\\users\\thilks\\appdata\\roaming\\python\\python312\\site-packages (from matplotlib) (1.4.5)\n",
      "Requirement already satisfied: numpy<2,>=1.21 in c:\\users\\thilks\\appdata\\roaming\\python\\python312\\site-packages (from matplotlib) (1.26.3)\n",
      "Requirement already satisfied: packaging>=20.0 in c:\\users\\thilks\\appdata\\roaming\\python\\python312\\site-packages (from matplotlib) (23.2)\n",
      "Requirement already satisfied: pillow>=8 in c:\\users\\thilks\\appdata\\roaming\\python\\python312\\site-packages (from matplotlib) (10.2.0)\n",
      "Requirement already satisfied: pyparsing>=2.3.1 in c:\\users\\thilks\\appdata\\roaming\\python\\python312\\site-packages (from matplotlib) (3.1.1)\n",
      "Requirement already satisfied: python-dateutil>=2.7 in c:\\users\\thilks\\appdata\\roaming\\python\\python312\\site-packages (from matplotlib) (2.8.2)\n",
      "Requirement already satisfied: six>=1.5 in c:\\users\\thilks\\appdata\\roaming\\python\\python312\\site-packages (from python-dateutil>=2.7->matplotlib) (1.16.0)\n",
      "Note: you may need to restart the kernel to use updated packages.\n",
      "Defaulting to user installation because normal site-packages is not writeable\n",
      "Requirement already satisfied: seaborn in c:\\users\\thilks\\appdata\\roaming\\python\\python312\\site-packages (0.13.2)\n",
      "Requirement already satisfied: numpy!=1.24.0,>=1.20 in c:\\users\\thilks\\appdata\\roaming\\python\\python312\\site-packages (from seaborn) (1.26.3)\n",
      "Requirement already satisfied: pandas>=1.2 in c:\\users\\thilks\\appdata\\roaming\\python\\python312\\site-packages (from seaborn) (2.2.0)\n",
      "Requirement already satisfied: matplotlib!=3.6.1,>=3.4 in c:\\users\\thilks\\appdata\\roaming\\python\\python312\\site-packages (from seaborn) (3.8.3)\n",
      "Requirement already satisfied: contourpy>=1.0.1 in c:\\users\\thilks\\appdata\\roaming\\python\\python312\\site-packages (from matplotlib!=3.6.1,>=3.4->seaborn) (1.2.0)\n",
      "Requirement already satisfied: cycler>=0.10 in c:\\users\\thilks\\appdata\\roaming\\python\\python312\\site-packages (from matplotlib!=3.6.1,>=3.4->seaborn) (0.12.1)\n",
      "Requirement already satisfied: fonttools>=4.22.0 in c:\\users\\thilks\\appdata\\roaming\\python\\python312\\site-packages (from matplotlib!=3.6.1,>=3.4->seaborn) (4.49.0)\n",
      "Requirement already satisfied: kiwisolver>=1.3.1 in c:\\users\\thilks\\appdata\\roaming\\python\\python312\\site-packages (from matplotlib!=3.6.1,>=3.4->seaborn) (1.4.5)\n",
      "Requirement already satisfied: packaging>=20.0 in c:\\users\\thilks\\appdata\\roaming\\python\\python312\\site-packages (from matplotlib!=3.6.1,>=3.4->seaborn) (23.2)\n",
      "Requirement already satisfied: pillow>=8 in c:\\users\\thilks\\appdata\\roaming\\python\\python312\\site-packages (from matplotlib!=3.6.1,>=3.4->seaborn) (10.2.0)\n",
      "Requirement already satisfied: pyparsing>=2.3.1 in c:\\users\\thilks\\appdata\\roaming\\python\\python312\\site-packages (from matplotlib!=3.6.1,>=3.4->seaborn) (3.1.1)\n",
      "Requirement already satisfied: python-dateutil>=2.7 in c:\\users\\thilks\\appdata\\roaming\\python\\python312\\site-packages (from matplotlib!=3.6.1,>=3.4->seaborn) (2.8.2)\n",
      "Requirement already satisfied: pytz>=2020.1 in c:\\users\\thilks\\appdata\\roaming\\python\\python312\\site-packages (from pandas>=1.2->seaborn) (2024.1)\n",
      "Requirement already satisfied: tzdata>=2022.7 in c:\\users\\thilks\\appdata\\roaming\\python\\python312\\site-packages (from pandas>=1.2->seaborn) (2023.4)\n",
      "Requirement already satisfied: six>=1.5 in c:\\users\\thilks\\appdata\\roaming\\python\\python312\\site-packages (from python-dateutil>=2.7->matplotlib!=3.6.1,>=3.4->seaborn) (1.16.0)\n",
      "Note: you may need to restart the kernel to use updated packages.\n"
     ]
    }
   ],
   "source": [
    "%pip install matplotlib\n",
    "%pip install seaborn"
   ]
  },
  {
   "cell_type": "code",
   "execution_count": 39,
   "metadata": {},
   "outputs": [
    {
     "name": "stdout",
     "output_type": "stream",
     "text": [
      "Size of the dataset: (148654, 11)\n",
      "Id                int64\n",
      "EmployeeName     object\n",
      "JobTitle         object\n",
      "BasePay          object\n",
      "OvertimePay      object\n",
      "OtherPay         object\n",
      "Benefits         object\n",
      "Year              int64\n",
      "Notes           float64\n",
      "Agency           object\n",
      "Status           object\n",
      "dtype: object\n",
      "Id                   0\n",
      "EmployeeName         0\n",
      "JobTitle             0\n",
      "BasePay            605\n",
      "OvertimePay          0\n",
      "OtherPay             0\n",
      "Benefits         36158\n",
      "Year                 0\n",
      "Notes           148654\n",
      "Agency               0\n",
      "Status          110535\n",
      "dtype: int64\n"
     ]
    },
    {
     "name": "stderr",
     "output_type": "stream",
     "text": [
      "C:\\Users\\thilks\\AppData\\Local\\Temp\\ipykernel_27704\\1725620745.py:3: DtypeWarning: Columns (10) have mixed types. Specify dtype option on import or set low_memory=False.\n",
      "  df = pd.read_csv('Employee Salaries.csv')\n"
     ]
    }
   ],
   "source": [
    "import pandas as pd\n",
    "\n",
    "df = pd.read_csv('Employee Salaries.csv')  \n",
    "\n",
    "size = df.shape\n",
    "print(\"Size of the dataset:\", size)\n",
    "\n",
    "\n",
    "data_types = df.dtypes\n",
    "print(data_types)\n",
    "\n",
    "null_values = df.isnull().sum()\n",
    "print(null_values)\n"
   ]
  },
  {
   "cell_type": "code",
   "execution_count": 40,
   "metadata": {},
   "outputs": [
    {
     "name": "stdout",
     "output_type": "stream",
     "text": [
      "<class 'pandas.core.frame.DataFrame'>\n",
      "RangeIndex: 148654 entries, 0 to 148653\n",
      "Data columns (total 9 columns):\n",
      " #   Column        Non-Null Count   Dtype         \n",
      "---  ------        --------------   -----         \n",
      " 0   Id            148654 non-null  int64         \n",
      " 1   EmployeeName  148654 non-null  object        \n",
      " 2   JobTitle      148654 non-null  object        \n",
      " 3   BasePay       148026 non-null  float64       \n",
      " 4   OvertimePay   148623 non-null  float64       \n",
      " 5   OtherPay      148627 non-null  float64       \n",
      " 6   Benefits      112454 non-null  float64       \n",
      " 7   Year          148654 non-null  datetime64[ns]\n",
      " 8   Agency        148654 non-null  object        \n",
      "dtypes: datetime64[ns](1), float64(4), int64(1), object(3)\n",
      "memory usage: 10.2+ MB\n",
      "None\n"
     ]
    }
   ],
   "source": [
    "numerical_columns = ['BasePay', 'OvertimePay', 'OtherPay', 'Benefits']  \n",
    "\n",
    "for col in numerical_columns:\n",
    "    df[col] = df[col].replace({'\\\\$': '', ',': ''}, regex=True)\n",
    "    df[col] = pd.to_numeric(df[col], errors='coerce')  # Handle noise by converting errors to NaN\n",
    "\n",
    "null_values = df.isnull().sum()\n",
    "\n",
    "\n",
    "threshold = 0.7 * len(df)\n",
    "df.dropna(thresh=threshold, axis=1, inplace=True)\n",
    "\n",
    "df['Year'] = pd.to_datetime(df['Year'], format='%Y')\n",
    "\n",
    "print(df.info())\n"
   ]
  },
  {
   "cell_type": "code",
   "execution_count": 41,
   "metadata": {},
   "outputs": [
    {
     "name": "stdout",
     "output_type": "stream",
     "text": [
      "Univariate analysis for column 'Id' (Numerical):\n",
      "Summary statistics:\n",
      "count    148654.000000\n",
      "mean      74327.500000\n",
      "std       42912.857795\n",
      "min           1.000000\n",
      "25%       37164.250000\n",
      "50%       74327.500000\n",
      "75%      111490.750000\n",
      "max      148654.000000\n",
      "Name: Id, dtype: float64\n",
      "Univariate analysis for column 'EmployeeName' (Categorical):\n",
      "Value counts:\n",
      "EmployeeName\n",
      "Kevin Lee                   13\n",
      "Richard Lee                 11\n",
      "Steven Lee                  11\n",
      "William Wong                11\n",
      "Stanley Lee                  9\n",
      "                            ..\n",
      "Jeffrey Skover               1\n",
      "Ken Dever                    1\n",
      "Kevin Whitfield              1\n",
      "Granville McCollough III     1\n",
      "Joe Lopez                    1\n",
      "Name: count, Length: 110811, dtype: int64\n",
      "Univariate analysis for column 'JobTitle' (Categorical):\n",
      "Value counts:\n",
      "JobTitle\n",
      "Transit Operator                                  7036\n",
      "Special Nurse                                     4389\n",
      "Registered Nurse                                  3736\n",
      "Public Svc Aide-Public Works                      2518\n",
      "Police Officer 3                                  2421\n",
      "                                                  ... \n",
      "CHIEF HOUSING INSPECTOR                              1\n",
      "TRAFFIC SIGNAL OPERATOR                              1\n",
      "COURT COMPUTER FACILITIES COORDINATOR                1\n",
      "AUTOMOTIVE BODY AND FENDER WORKER SUPERVISOR I       1\n",
      "VICTIM & WITNESS TECHNICIAN                          1\n",
      "Name: count, Length: 2159, dtype: int64\n",
      "Univariate analysis for column 'BasePay' (Numerical):\n",
      "Summary statistics:\n",
      "count    148026.000000\n",
      "mean      66333.962098\n",
      "std       42760.777210\n",
      "min        -166.010000\n",
      "25%       33609.767500\n",
      "50%       65013.220000\n",
      "75%       94691.075000\n",
      "max      319275.010000\n",
      "Name: BasePay, dtype: float64\n",
      "Univariate analysis for column 'OvertimePay' (Numerical):\n",
      "Summary statistics:\n",
      "count    148623.000000\n",
      "mean       5066.980226\n",
      "std       11455.217418\n",
      "min          -0.010000\n",
      "25%           0.000000\n",
      "50%           0.000000\n",
      "75%        4659.035000\n",
      "max      245131.880000\n",
      "Name: OvertimePay, dtype: float64\n",
      "Univariate analysis for column 'OtherPay' (Numerical):\n",
      "Summary statistics:\n",
      "count    148627.000000\n",
      "mean       3649.331943\n",
      "std        8057.097351\n",
      "min       -7058.590000\n",
      "25%           0.000000\n",
      "50%         812.190000\n",
      "75%        4237.350000\n",
      "max      400184.250000\n",
      "Name: OtherPay, dtype: float64\n",
      "Univariate analysis for column 'Benefits' (Numerical):\n",
      "Summary statistics:\n",
      "count    112454.000000\n",
      "mean      25015.908543\n",
      "std       15398.401005\n",
      "min         -33.890000\n",
      "25%       11569.032500\n",
      "50%       28632.395000\n",
      "75%       35569.422500\n",
      "max       96570.660000\n",
      "Name: Benefits, dtype: float64\n",
      "Univariate analysis for column 'Agency' (Categorical):\n",
      "Value counts:\n",
      "Agency\n",
      "San Francisco    148654\n",
      "Name: count, dtype: int64\n"
     ]
    }
   ],
   "source": [
    "\n",
    "# Univariate analysis for each column\n",
    "for col in df.columns:\n",
    "    if df[col].dtype in ['int64', 'float64']: \n",
    "        print(f\"Univariate analysis for column '{col}' (Numerical):\")\n",
    "        print(\"Summary statistics:\")\n",
    "        print(df[col].describe())\n",
    "                \n",
    "    elif df[col].dtype == 'object': \n",
    "        print(f\"Univariate analysis for column '{col}' (Categorical):\")\n",
    "        print(\"Value counts:\")\n",
    "        print(df[col].value_counts())\n",
    "\n",
    "        \n",
    "    elif df[col].dtype == 'datetime64': \n",
    "        print(f\"Univariate analysis for column '{col}' (Datetime):\")\n",
    "       \n",
    "        df[col] = pd.to_datetime(df[col])  \n",
    "        print(\"Date range:\")\n",
    "        print(f\"From: {df[col].min()} to {df[col].max()}\")\n",
    "\n",
    "      \n"
   ]
  },
  {
   "cell_type": "code",
   "execution_count": 42,
   "metadata": {},
   "outputs": [
    {
     "name": "stderr",
     "output_type": "stream",
     "text": [
      "C:\\Users\\thilks\\AppData\\Local\\Temp\\ipykernel_27704\\1646294976.py:4: DtypeWarning: Columns (10) have mixed types. Specify dtype option on import or set low_memory=False.\n",
      "  df = pd.read_csv('Employee Salaries.csv')\n"
     ]
    },
    {
     "data": {
      "image/png": "[encoded data removed]",
      "text/plain": [
       "<Figure size 1000x600 with 1 Axes>"
      ]
     },
     "metadata": {},
     "output_type": "display_data"
    }
   ],
   "source": [
    "import pandas as pd\n",
    "import matplotlib.pyplot as plt\n",
    "\n",
    "df = pd.read_csv('Employee Salaries.csv')\n",
    "\n",
    "df['BasePay'] = df['BasePay'].replace({'\\\\$': ''}, regex=True)\n",
    "\n",
    "df['BasePay'] = pd.to_numeric(df['BasePay'], errors='coerce')\n",
    "\n",
    "unique_years = df['Year'].unique()\n",
    "\n",
    "average_base_pay = df.groupby('Year')['BasePay'].mean().round(2)\n",
    "\n",
    "#BAR CHART\n",
    "plt.figure(figsize=(10, 6))\n",
    "average_base_pay.plot(kind='bar', color='skyblue')\n",
    "plt.title('Average Base Pay by Year')\n",
    "plt.xlabel('Year')\n",
    "plt.ylabel('Average Base Pay ($)')\n",
    "plt.xticks(rotation=45)\n",
    "plt.grid(axis='y', linestyle='--', alpha=0.7)\n",
    "plt.tight_layout()\n",
    "plt.show()\n"
   ]
  },
  {
   "cell_type": "code",
   "execution_count": 43,
   "metadata": {},
   "outputs": [
    {
     "name": "stdout",
     "output_type": "stream",
     "text": [
      "Minimum, Maximum, Median, and Mode Overtime Pay for Each Year:\n",
      "      Minimum    Maximum  Median  Mode\n",
      "Year                                  \n",
      "2011     0.00  245131.88     0.0   0.0\n",
      "2012     0.00  220909.48     0.0   0.0\n",
      "2013    -0.01  196689.18     0.0   0.0\n",
      "2014     0.00  173547.73     0.0   0.0\n"
     ]
    }
   ],
   "source": [
    "numerical_columns = ['OvertimePay']\n",
    "for col in numerical_columns:\n",
    "    df[col] = df[col].replace({'\\\\$': '', ',': ''}, regex=True)\n",
    "    df[col] = pd.to_numeric(df[col], errors='coerce')\n",
    "\n",
    "def mode_func(x):\n",
    "    modes = x.mode()\n",
    "    if len(modes) > 0:\n",
    "        return modes.iloc[0]\n",
    "    else:\n",
    "        return None\n",
    "\n",
    "overtime_stats = df.groupby('Year')['OvertimePay'].agg(['min', 'max', 'median', mode_func]).round(2)\n",
    "\n",
    "\n",
    "overtime_stats.columns = ['Minimum', 'Maximum', 'Median', 'Mode']\n",
    "\n",
    "print(\"Minimum, Maximum, Median, and Mode Overtime Pay for Each Year:\")\n",
    "print(overtime_stats)\n"
   ]
  },
  {
   "cell_type": "code",
   "execution_count": 44,
   "metadata": {},
   "outputs": [
    {
     "name": "stdout",
     "output_type": "stream",
     "text": [
      "   Id       EmployeeName                                        JobTitle  \\\n",
      "0   1     NATHANIEL FORD  GENERAL MANAGER-METROPOLITAN TRANSIT AUTHORITY   \n",
      "1   2       GARY JIMENEZ                 CAPTAIN III (POLICE DEPARTMENT)   \n",
      "2   3     ALBERT PARDINI                 CAPTAIN III (POLICE DEPARTMENT)   \n",
      "3   4  CHRISTOPHER CHONG            WIRE ROPE CABLE MAINTENANCE MECHANIC   \n",
      "4   5    PATRICK GARDNER    DEPUTY CHIEF OF DEPARTMENT,(FIRE DEPARTMENT)   \n",
      "\n",
      "   BasePay  OvertimePay   OtherPay  Benefits  Year  Notes         Agency  \\\n",
      "0      NaN         0.00  400184.25       NaN  2011    NaN  San Francisco   \n",
      "1      NaN    245131.88  137811.38       NaN  2011    NaN  San Francisco   \n",
      "2      NaN    106088.18   16452.60       NaN  2011    NaN  San Francisco   \n",
      "3      NaN     56120.71  198306.90       NaN  2011    NaN  San Francisco   \n",
      "4      NaN      9737.00  182234.59       NaN  2011    NaN  San Francisco   \n",
      "\n",
      "  Status  Total Pay  \n",
      "0    NaN  400184.25  \n",
      "1    NaN  382943.26  \n",
      "2    NaN  122540.78  \n",
      "3    NaN  254427.61  \n",
      "4    NaN  191971.59  \n"
     ]
    }
   ],
   "source": [
    "\n",
    "numerical_columns = ['BasePay', 'OvertimePay', 'OtherPay', 'Benefits']\n",
    "for col in numerical_columns:\n",
    "    df[col] = df[col].replace({'\\\\$': '', ',': ''}, regex=True)\n",
    "    df[col] = pd.to_numeric(df[col], errors='coerce')\n",
    "\n",
    "df['Total Pay'] = df['BasePay'].fillna(0) + df['OvertimePay'].fillna(0) + df['OtherPay'].fillna(0) + df['Benefits'].fillna(0)\n",
    "\n",
    "\n",
    "print(df.head())"
   ]
  },
  {
   "cell_type": "code",
   "execution_count": 45,
   "metadata": {},
   "outputs": [
    {
     "name": "stderr",
     "output_type": "stream",
     "text": [
      "C:\\Users\\thilks\\AppData\\Local\\Temp\\ipykernel_27704\\476150315.py:8: DtypeWarning: Columns (10) have mixed types. Specify dtype option on import or set low_memory=False.\n",
      "  df = pd.read_csv('Employee Salaries.csv')\n"
     ]
    },
    {
     "name": "stdout",
     "output_type": "stream",
     "text": [
      "Confidence Interval for the Mean of Total Pay Column:\n",
      "Lower Bound: 93373.18432518149\n",
      "Upper Bound: 94011.60335210939\n",
      "Shapiro-Wilk Test Result: Not A Normal Distribution\n"
     ]
    },
    {
     "name": "stderr",
     "output_type": "stream",
     "text": [
      "C:\\Users\\thilks\\AppData\\Local\\Temp\\ipykernel_27704\\476150315.py:31: UserWarning: scipy.stats.shapiro: For N > 5000, computed p-value may not be accurate. Current N is 148654.\n",
      "  statistic, p_value = shapiro(df['Total Pay'])\n"
     ]
    }
   ],
   "source": [
    "from scipy.stats import shapiro, norm\n",
    "\n",
    "import pandas as pd\n",
    "from scipy.stats import shapiro\n",
    "from scipy.stats import norm\n",
    "import numpy as np\n",
    "\n",
    "df = pd.read_csv('Employee Salaries.csv')\n",
    "\n",
    "numerical_columns = ['BasePay', 'OvertimePay', 'OtherPay', 'Benefits']\n",
    "for col in numerical_columns:\n",
    "    df[col] = df[col].replace({'\\\\$': '', ',': ''}, regex=True)\n",
    "    df[col] = pd.to_numeric(df[col], errors='coerce')\n",
    "\n",
    "df['Total Pay'] = df['BasePay'].fillna(0) + df['OvertimePay'].fillna(0) + df['OtherPay'].fillna(0) + df['Benefits'].fillna(0)\n",
    "\n",
    "\n",
    "mean_total_pay = df['Total Pay'].mean()\n",
    "std_total_pay = df['Total Pay'].std()\n",
    "n = len(df['Total Pay'])\n",
    "confidence_level = 0.95  # 95% confidence level\n",
    "z_critical = norm.ppf((1 + confidence_level) / 2)  # Two-tailed Z critical value\n",
    "margin_of_error = z_critical * (std_total_pay / np.sqrt(n))\n",
    "lower_bound = mean_total_pay - margin_of_error\n",
    "upper_bound = mean_total_pay + margin_of_error\n",
    "\n",
    "print(\"Confidence Interval for the Mean of Total Pay Column:\")\n",
    "print(\"Lower Bound:\", lower_bound)\n",
    "print(\"Upper Bound:\", upper_bound)\n",
    "\n",
    "statistic, p_value = shapiro(df['Total Pay'])\n",
    "\n",
    "if p_value > 0.05:\n",
    "    print(\"Shapiro-Wilk Test Result: Normal Distribution\")\n",
    "else:\n",
    "    print(\"Shapiro-Wilk Test Result: Not A Normal Distribution\")\n"
   ]
  },
  {
   "cell_type": "code",
   "execution_count": 46,
   "metadata": {},
   "outputs": [
    {
     "name": "stdout",
     "output_type": "stream",
     "text": [
      "627\n"
     ]
    }
   ],
   "source": [
    "chief_titles_count = df['JobTitle'].str.lower().str.contains('chief', case=False).sum()\n",
    "\n",
    "print( chief_titles_count)"
   ]
  },
  {
   "cell_type": "code",
   "execution_count": 47,
   "metadata": {},
   "outputs": [
    {
     "name": "stdout",
     "output_type": "stream",
     "text": [
      "                                                Number of Employees  \\\n",
      "JobTitle                                                              \n",
      "ACCOUNT CLERK                                                    83   \n",
      "ACCOUNTANT                                                        5   \n",
      "ACCOUNTANT INTERN                                                48   \n",
      "ACPO,JuvP, Juv Prob (SFERS)                                       1   \n",
      "ACUPUNCTURIST                                                     1   \n",
      "...                                                             ...   \n",
      "X-RAY LABORATORY AIDE                                            26   \n",
      "X-Ray Laboratory Aide                                           100   \n",
      "YOUTH COMMISSION ADVISOR, BOARD OF SUPERVISORS                    1   \n",
      "Youth Comm Advisor                                                4   \n",
      "ZOO CURATOR                                                       1   \n",
      "\n",
      "                                                Maximum Total Pay  \\\n",
      "JobTitle                                                            \n",
      "ACCOUNT CLERK                                            60838.20   \n",
      "ACCOUNTANT                                               65392.01   \n",
      "ACCOUNTANT INTERN                                        58799.53   \n",
      "ACPO,JuvP, Juv Prob (SFERS)                              80266.37   \n",
      "ACUPUNCTURIST                                            67594.40   \n",
      "...                                                           ...   \n",
      "X-RAY LABORATORY AIDE                                    85077.40   \n",
      "X-Ray Laboratory Aide                                   129044.16   \n",
      "YOUTH COMMISSION ADVISOR, BOARD OF SUPERVISORS           53632.87   \n",
      "Youth Comm Advisor                                       85774.39   \n",
      "ZOO CURATOR                                              66686.56   \n",
      "\n",
      "                                                Minimum Total Pay  \n",
      "JobTitle                                                           \n",
      "ACCOUNT CLERK                                              614.00  \n",
      "ACCOUNTANT                                                1148.40  \n",
      "ACCOUNTANT INTERN                                         2981.53  \n",
      "ACPO,JuvP, Juv Prob (SFERS)                              80266.37  \n",
      "ACUPUNCTURIST                                            67594.40  \n",
      "...                                                           ...  \n",
      "X-RAY LABORATORY AIDE                                     5343.69  \n",
      "X-Ray Laboratory Aide                                     1017.07  \n",
      "YOUTH COMMISSION ADVISOR, BOARD OF SUPERVISORS           53632.87  \n",
      "Youth Comm Advisor                                       24957.24  \n",
      "ZOO CURATOR                                              66686.56  \n",
      "\n",
      "[2159 rows x 3 columns]\n"
     ]
    }
   ],
   "source": [
    "numerical_columns = ['BasePay', 'OvertimePay', 'OtherPay', 'Benefits']\n",
    "for col in numerical_columns:\n",
    "    df[col] = df[col].replace({'\\\\$': '', ',': ''}, regex=True)\n",
    "    df[col] = pd.to_numeric(df[col], errors='coerce')\n",
    "\n",
    "df['Total Pay'] = df['BasePay'].fillna(0) + df['OvertimePay'].fillna(0) + df['OtherPay'].fillna(0) + df['Benefits'].fillna(0)\n",
    "\n",
    "job_title_stats = df.groupby('JobTitle')['Total Pay'].agg(['count', 'max', 'min'])\n",
    "\n",
    "job_title_stats.columns = ['Number of Employees', 'Maximum Total Pay', 'Minimum Total Pay']\n",
    "\n",
    "new_df = job_title_stats.reset_index().set_index('JobTitle')\n",
    "\n",
    "print(new_df)"
   ]
  },
  {
   "cell_type": "code",
   "execution_count": 48,
   "metadata": {},
   "outputs": [
    {
     "name": "stderr",
     "output_type": "stream",
     "text": [
      "C:\\Users\\thilks\\AppData\\Local\\Temp\\ipykernel_27704\\3213599929.py:5: DtypeWarning: Columns (10) have mixed types. Specify dtype option on import or set low_memory=False.\n",
      "  df = pd.read_csv('Employee Salaries.csv')\n"
     ]
    },
    {
     "data": {
      "image/png": "[encoded data removed]",
      "text/plain": [
       "<Figure size 1000x800 with 2 Axes>"
      ]
     },
     "metadata": {},
     "output_type": "display_data"
    }
   ],
   "source": [
    "import pandas as pd\n",
    "import seaborn as sns\n",
    "import matplotlib.pyplot as plt\n",
    "\n",
    "df = pd.read_csv('Employee Salaries.csv')\n",
    "\n",
    "numerical_columns = ['BasePay', 'OvertimePay', 'OtherPay', 'Benefits']\n",
    "for col in numerical_columns:\n",
    "    df[col] = df[col].replace({'\\\\$': '', ',': ''}, regex=True)\n",
    "    df[col] = pd.to_numeric(df[col], errors='coerce')\n",
    "\n",
    "df['Total Pay'] = df['BasePay'].fillna(0) + df['OvertimePay'].fillna(0) + df['OtherPay'].fillna(0) + df['Benefits'].fillna(0)\n",
    "\n",
    "numerical_df = df[numerical_columns + ['Total Pay']]\n",
    "\n",
    "corr_matrix = numerical_df.corr()\n",
    "\n",
    "# HEATMAP\n",
    "plt.figure(figsize=(10, 8))\n",
    "sns.heatmap(corr_matrix, annot=True, cmap='coolwarm', fmt=\".2f\", linewidths=0.5)\n",
    "plt.title('Correlation Heatmap of Numerical Columns')\n",
    "plt.show()\n",
    "\n"
   ]
  },
  {
   "cell_type": "code",
   "execution_count": 49,
   "metadata": {},
   "outputs": [
    {
     "name": "stdout",
     "output_type": "stream",
     "text": [
      "                                              JobTitle  Total Pay\n",
      "0       GENERAL MANAGER-METROPOLITAN TRANSIT AUTHORITY  567595.43\n",
      "1                      CAPTAIN III (POLICE DEPARTMENT)  538909.28\n",
      "110531                                  Deputy Chief 3  510732.68\n",
      "110532                               Asst Med Examiner  479652.21\n",
      "110533                        Chief Investment Officer  436224.36\n",
      "148653                      Counselor, Log Cabin Ranch    -618.13\n",
      "110530                                Police Officer 3     -33.89\n",
      "110529                                Police Officer 3      -8.20\n",
      "110528                                Police Officer 3      -2.73\n",
      "36156       STATIONARY ENGINEER, WATER TREATMENT PLANT       0.00\n"
     ]
    }
   ],
   "source": [
    "numerical_columns = ['BasePay', 'OvertimePay', 'OtherPay', 'Benefits']\n",
    "\n",
    "for col in numerical_columns:\n",
    "    df[col] = df[col].replace({'\\\\$': '', ',': ''}, regex=True)\n",
    "    df[col] = pd.to_numeric(df[col], errors='coerce')\n",
    "\n",
    "df['Total Pay'] = df['BasePay'].fillna(0) + df['OvertimePay'].fillna(0) + df['OtherPay'].fillna(0) + df['Benefits'].fillna(0)\n",
    "\n",
    "top_highest = df.nlargest(5, 'Total Pay')[['JobTitle', 'Total Pay']]\n",
    "\n",
    "top_lowest = df.nsmallest(5, 'Total Pay')[['JobTitle', 'Total Pay']]\n",
    "\n",
    "combined_table = pd.concat([top_highest, top_lowest])\n",
    "print(combined_table)\n"
   ]
  },
  {
   "cell_type": "code",
   "execution_count": 50,
   "metadata": {},
   "outputs": [
    {
     "name": "stdout",
     "output_type": "stream",
     "text": [
      "            Id          EmployeeName                  JobTitle   BasePay  \\\n",
      "110533  110534  William J Coaker Jr.  Chief Investment Officer  257340.0   \n",
      "\n",
      "        OvertimePay  OtherPay  Benefits  Year  Notes         Agency Status  \\\n",
      "110533          0.0   82313.7  96570.66  2014    NaN  San Francisco     PT   \n",
      "\n",
      "        Total Pay  \n",
      "110533  436224.36  \n"
     ]
    }
   ],
   "source": [
    "numerical_columns = ['BasePay', 'OvertimePay', 'OtherPay', 'Benefits']\n",
    "for col in numerical_columns:\n",
    "    df[col] = df[col].replace({'\\\\$': '', ',': ''}, regex=True)\n",
    "    df[col] = pd.to_numeric(df[col], errors='coerce')\n",
    "\n",
    "filtered = df[\n",
    "    (df['JobTitle'] == 'Chief Investment Officer') & \n",
    "    (df['BasePay'] > 70000) & \n",
    "    (df['OvertimePay'] < 40000) & \n",
    "    (df['OtherPay'] > 50000)\n",
    "]\n",
    "\n",
    "print(filtered)\n"
   ]
  },
  {
   "cell_type": "code",
   "execution_count": 51,
   "metadata": {},
   "outputs": [
    {
     "name": "stdout",
     "output_type": "stream",
     "text": [
      "            Id       EmployeeName  \\\n",
      "0            1     NATHANIEL FORD   \n",
      "1            2       GARY JIMENEZ   \n",
      "2            3     ALBERT PARDINI   \n",
      "3            4  CHRISTOPHER CHONG   \n",
      "4            5    PATRICK GARDNER   \n",
      "...        ...                ...   \n",
      "148648  148649        Leon Walker   \n",
      "148649  148650      Roy I Tillery   \n",
      "148650  148651       Not provided   \n",
      "148651  148652       Not provided   \n",
      "148652  148653       Not provided   \n",
      "\n",
      "                                              JobTitle    BasePay  \\\n",
      "0       GENERAL MANAGER-METROPOLITAN TRANSIT AUTHORITY  167411.18   \n",
      "1                      CAPTAIN III (POLICE DEPARTMENT)  155966.02   \n",
      "2                      CAPTAIN III (POLICE DEPARTMENT)  212739.13   \n",
      "3                 WIRE ROPE CABLE MAINTENANCE MECHANIC   77916.00   \n",
      "4         DEPUTY CHIEF OF DEPARTMENT,(FIRE DEPARTMENT)  134401.60   \n",
      "...                                                ...        ...   \n",
      "148648                                       Custodian       0.00   \n",
      "148649                                       Custodian       0.00   \n",
      "148650                                    Not provided        NaN   \n",
      "148651                                    Not provided        NaN   \n",
      "148652                                    Not provided        NaN   \n",
      "\n",
      "        OvertimePay   OtherPay  Benefits  Year  Notes         Agency Status  \\\n",
      "0              0.00  400184.25       NaN  2011    NaN  San Francisco    NaN   \n",
      "1         245131.88  137811.38       NaN  2011    NaN  San Francisco    NaN   \n",
      "2         106088.18   16452.60       NaN  2011    NaN  San Francisco    NaN   \n",
      "3          56120.71  198306.90       NaN  2011    NaN  San Francisco    NaN   \n",
      "4           9737.00  182234.59       NaN  2011    NaN  San Francisco    NaN   \n",
      "...             ...        ...       ...   ...    ...            ...    ...   \n",
      "148648         0.00       0.00       0.0  2014    NaN  San Francisco     PT   \n",
      "148649         0.00       0.00       0.0  2014    NaN  San Francisco     PT   \n",
      "148650          NaN        NaN       NaN  2014    NaN  San Francisco    NaN   \n",
      "148651          NaN        NaN       NaN  2014    NaN  San Francisco    NaN   \n",
      "148652          NaN        NaN       NaN  2014    NaN  San Francisco    NaN   \n",
      "\n",
      "        Total Pay  \n",
      "0       567595.43  \n",
      "1       538909.28  \n",
      "2       335279.91  \n",
      "3       332343.61  \n",
      "4       326373.19  \n",
      "...           ...  \n",
      "148648       0.00  \n",
      "148649       0.00  \n",
      "148650       0.00  \n",
      "148651       0.00  \n",
      "148652       0.00  \n",
      "\n",
      "[4796 rows x 12 columns]\n"
     ]
    }
   ],
   "source": [
    "numerical_columns = ['BasePay', 'OvertimePay', 'OtherPay', 'Benefits']\n",
    "for col in numerical_columns:\n",
    "    df[col] = df[col].replace({'\\\\$': '', ',': ''}, regex=True)\n",
    "    df[col] = pd.to_numeric(df[col], errors='coerce')\n",
    "\n",
    "df['Total Pay'] = df['BasePay'].fillna(0) + df['OvertimePay'].fillna(0) + df['OtherPay'].fillna(0) + df['Benefits'].fillna(0)\n",
    "\n",
    "second_highest_pay_per_job = df.groupby('JobTitle')['Total Pay'].nlargest(2).reset_index(level=1, drop=True)\n",
    "\n",
    "filtered= df[df['Total Pay'].isin(second_highest_pay_per_job)]\n",
    "\n",
    "print(filtered)\n"
   ]
  }
 ],
 "metadata": {
  "kernelspec": {
   "display_name": "Python 3",
   "language": "python",
   "name": "python3"
  },
  "language_info": {
   "codemirror_mode": {
    "name": "ipython",
    "version": 3
   },
   "file_extension": ".py",
   "mimetype": "text/x-python",
   "name": "python",
   "nbconvert_exporter": "python",
   "pygments_lexer": "ipython3",
   "version": "3.12.0"
  }
 },
 "nbformat": 4,
 "nbformat_minor": 2
}
